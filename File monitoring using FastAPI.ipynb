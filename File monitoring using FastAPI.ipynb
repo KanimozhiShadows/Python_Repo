{
  "nbformat": 4,
  "nbformat_minor": 0,
  "metadata": {
    "colab": {
      "provenance": [],
      "authorship_tag": "ABX9TyM7sknXVhFAC7w4xZvkpFm4",
      "include_colab_link": true
    },
    "kernelspec": {
      "name": "python3",
      "display_name": "Python 3"
    },
    "language_info": {
      "name": "python"
    }
  },
  "cells": [
    {
      "cell_type": "markdown",
      "metadata": {
        "id": "view-in-github",
        "colab_type": "text"
      },
      "source": [
        "<a href=\"https://colab.research.google.com/github/KanimozhiShadows/Python_Repo/blob/main/File%20monitoring%20using%20FastAPI.ipynb\" target=\"_parent\"><img src=\"https://colab.research.google.com/assets/colab-badge.svg\" alt=\"Open In Colab\"/></a>"
      ]
    },
    {
      "cell_type": "code",
      "execution_count": null,
      "metadata": {
        "colab": {
          "base_uri": "https://localhost:8080/"
        },
        "id": "CgqeLVii_mGF",
        "outputId": "de5834d4-310d-4a55-ec3f-1081d7364d37"
      },
      "outputs": [
        {
          "output_type": "stream",
          "name": "stdout",
          "text": [
            "Collecting fastapi\n",
            "  Downloading fastapi-0.115.12-py3-none-any.whl.metadata (27 kB)\n",
            "Collecting starlette<0.47.0,>=0.40.0 (from fastapi)\n",
            "  Downloading starlette-0.46.2-py3-none-any.whl.metadata (6.2 kB)\n",
            "Requirement already satisfied: pydantic!=1.8,!=1.8.1,!=2.0.0,!=2.0.1,!=2.1.0,<3.0.0,>=1.7.4 in /usr/local/lib/python3.11/dist-packages (from fastapi) (2.11.3)\n",
            "Requirement already satisfied: typing-extensions>=4.8.0 in /usr/local/lib/python3.11/dist-packages (from fastapi) (4.13.2)\n",
            "Requirement already satisfied: annotated-types>=0.6.0 in /usr/local/lib/python3.11/dist-packages (from pydantic!=1.8,!=1.8.1,!=2.0.0,!=2.0.1,!=2.1.0,<3.0.0,>=1.7.4->fastapi) (0.7.0)\n",
            "Requirement already satisfied: pydantic-core==2.33.1 in /usr/local/lib/python3.11/dist-packages (from pydantic!=1.8,!=1.8.1,!=2.0.0,!=2.0.1,!=2.1.0,<3.0.0,>=1.7.4->fastapi) (2.33.1)\n",
            "Requirement already satisfied: typing-inspection>=0.4.0 in /usr/local/lib/python3.11/dist-packages (from pydantic!=1.8,!=1.8.1,!=2.0.0,!=2.0.1,!=2.1.0,<3.0.0,>=1.7.4->fastapi) (0.4.0)\n",
            "Requirement already satisfied: anyio<5,>=3.6.2 in /usr/local/lib/python3.11/dist-packages (from starlette<0.47.0,>=0.40.0->fastapi) (4.9.0)\n",
            "Requirement already satisfied: idna>=2.8 in /usr/local/lib/python3.11/dist-packages (from anyio<5,>=3.6.2->starlette<0.47.0,>=0.40.0->fastapi) (3.10)\n",
            "Requirement already satisfied: sniffio>=1.1 in /usr/local/lib/python3.11/dist-packages (from anyio<5,>=3.6.2->starlette<0.47.0,>=0.40.0->fastapi) (1.3.1)\n",
            "Downloading fastapi-0.115.12-py3-none-any.whl (95 kB)\n",
            "\u001b[2K   \u001b[90m━━━━━━━━━━━━━━━━━━━━━━━━━━━━━━━━━━━━━━━━\u001b[0m \u001b[32m95.2/95.2 kB\u001b[0m \u001b[31m4.1 MB/s\u001b[0m eta \u001b[36m0:00:00\u001b[0m\n",
            "\u001b[?25hDownloading starlette-0.46.2-py3-none-any.whl (72 kB)\n",
            "\u001b[2K   \u001b[90m━━━━━━━━━━━━━━━━━━━━━━━━━━━━━━━━━━━━━━━━\u001b[0m \u001b[32m72.0/72.0 kB\u001b[0m \u001b[31m5.1 MB/s\u001b[0m eta \u001b[36m0:00:00\u001b[0m\n",
            "\u001b[?25hInstalling collected packages: starlette, fastapi\n",
            "Successfully installed fastapi-0.115.12 starlette-0.46.2\n",
            "Collecting uvicorn\n",
            "  Downloading uvicorn-0.34.2-py3-none-any.whl.metadata (6.5 kB)\n",
            "Requirement already satisfied: click>=7.0 in /usr/local/lib/python3.11/dist-packages (from uvicorn) (8.1.8)\n",
            "Requirement already satisfied: h11>=0.8 in /usr/local/lib/python3.11/dist-packages (from uvicorn) (0.14.0)\n",
            "Downloading uvicorn-0.34.2-py3-none-any.whl (62 kB)\n",
            "\u001b[2K   \u001b[90m━━━━━━━━━━━━━━━━━━━━━━━━━━━━━━━━━━━━━━━━\u001b[0m \u001b[32m62.5/62.5 kB\u001b[0m \u001b[31m2.3 MB/s\u001b[0m eta \u001b[36m0:00:00\u001b[0m\n",
            "\u001b[?25hInstalling collected packages: uvicorn\n",
            "Successfully installed uvicorn-0.34.2\n",
            "Collecting watchdog\n",
            "  Downloading watchdog-6.0.0-py3-none-manylinux2014_x86_64.whl.metadata (44 kB)\n",
            "\u001b[2K     \u001b[90m━━━━━━━━━━━━━━━━━━━━━━━━━━━━━━━━━━━━━━━━\u001b[0m \u001b[32m44.3/44.3 kB\u001b[0m \u001b[31m1.8 MB/s\u001b[0m eta \u001b[36m0:00:00\u001b[0m\n",
            "\u001b[?25hDownloading watchdog-6.0.0-py3-none-manylinux2014_x86_64.whl (79 kB)\n",
            "\u001b[2K   \u001b[90m━━━━━━━━━━━━━━━━━━━━━━━━━━━━━━━━━━━━━━━━\u001b[0m \u001b[32m79.1/79.1 kB\u001b[0m \u001b[31m3.0 MB/s\u001b[0m eta \u001b[36m0:00:00\u001b[0m\n",
            "\u001b[?25hInstalling collected packages: watchdog\n",
            "Successfully installed watchdog-6.0.0\n",
            "Collecting apscheduler\n",
            "  Downloading APScheduler-3.11.0-py3-none-any.whl.metadata (6.4 kB)\n",
            "Requirement already satisfied: tzlocal>=3.0 in /usr/local/lib/python3.11/dist-packages (from apscheduler) (5.3.1)\n",
            "Downloading APScheduler-3.11.0-py3-none-any.whl (64 kB)\n",
            "\u001b[2K   \u001b[90m━━━━━━━━━━━━━━━━━━━━━━━━━━━━━━━━━━━━━━━━\u001b[0m \u001b[32m64.0/64.0 kB\u001b[0m \u001b[31m1.9 MB/s\u001b[0m eta \u001b[36m0:00:00\u001b[0m\n",
            "\u001b[?25hInstalling collected packages: apscheduler\n",
            "Successfully installed apscheduler-3.11.0\n",
            "Collecting mysql-connector-python\n",
            "  Downloading mysql_connector_python-9.3.0-cp311-cp311-manylinux_2_28_x86_64.whl.metadata (7.2 kB)\n",
            "Downloading mysql_connector_python-9.3.0-cp311-cp311-manylinux_2_28_x86_64.whl (33.9 MB)\n",
            "\u001b[2K   \u001b[90m━━━━━━━━━━━━━━━━━━━━━━━━━━━━━━━━━━━━━━━━\u001b[0m \u001b[32m33.9/33.9 MB\u001b[0m \u001b[31m51.6 MB/s\u001b[0m eta \u001b[36m0:00:00\u001b[0m\n",
            "\u001b[?25hInstalling collected packages: mysql-connector-python\n",
            "Successfully installed mysql-connector-python-9.3.0\n"
          ]
        }
      ],
      "source": [
        "!pip install fastapi\n",
        "!pip install uvicorn\n",
        "!pip install watchdog\n",
        "!pip install apscheduler\n",
        "!pip install mysql-connector-python\n"
      ]
    },
    {
      "cell_type": "code",
      "source": [
        "from fastapi import FastAPI\n",
        "from watchdog.observers import Observer\n",
        "from watchdog.events import FileSystemEventHandler\n",
        "from apscheduler.schedulers.background import BackgroundScheduler\n",
        "import mysql.connector\n",
        "import time\n",
        "import os"
      ],
      "metadata": {
        "id": "x078Mli8Asdw"
      },
      "execution_count": null,
      "outputs": []
    },
    {
      "cell_type": "code",
      "source": [
        "# ---------- CONFIGURATION ----------\n",
        "WATCH_DIRECTORY = \"D:\\Kani\\Projects\\Python based\\Py_File_Db\\filelist\"  # <-- Change this to the folder you want to monitor\n",
        "DB_CONFIG = {\n",
        "    \"host\": \"localhost\",\n",
        "    \"user\": \"kani\",\n",
        "    \"password\": \"kani2310\",\n",
        "    \"database\": \"storage\"\n",
        "}\n"
      ],
      "metadata": {
        "id": "ftuKT4s3IFVx"
      },
      "execution_count": 4,
      "outputs": []
    },
    {
      "cell_type": "code",
      "source": [
        "# ---------- DATABASE CONNECTION ----------\n",
        "\n",
        "def insert_file_to_db(filename, filepath):\n",
        "    try:\n",
        "        connection = mysql.connector.connect(**DB_CONFIG)\n",
        "        cursor = connection.cursor()\n",
        "        sql = \"INSERT INTO files (filename, filepath) VALUES (%s, %s)\"\n",
        "        values = (filename, filepath)\n",
        "        cursor.execute(sql, values)\n",
        "        connection.commit()\n",
        "        cursor.close()\n",
        "        connection.close()\n",
        "        print(f\"Inserted {filename} into database.\")\n",
        "    except mysql.connector.Error as err:\n",
        "        print(f\"Error: {err}\")"
      ],
      "metadata": {
        "id": "-KIDSxu6IuUD"
      },
      "execution_count": 5,
      "outputs": []
    },
    {
      "cell_type": "code",
      "source": [
        "# ---------- FILE EVENT HANDLER ----------\n",
        "\n",
        "class FileEventHandler(FileSystemEventHandler):\n",
        "    def on_created(self, event):\n",
        "        if not event.is_directory:\n",
        "            filename = os.path.basename(event.src_path)\n",
        "            filepath = event.src_path\n",
        "            print(f\"Detected new file: {filename}\")\n",
        "            insert_file_to_db(filename, filepath)"
      ],
      "metadata": {
        "id": "baXhD9A8I1L3"
      },
      "execution_count": 6,
      "outputs": []
    },
    {
      "cell_type": "code",
      "source": [
        "# ---------- SCHEDULER TASK ----------\n",
        "\n",
        "def start_watchdog():\n",
        "    event_handler = FileEventHandler()\n",
        "    observer = Observer()\n",
        "    observer.schedule(event_handler, path=WATCH_DIRECTORY, recursive=False)\n",
        "    observer.start()\n",
        "    print(f\"Started watching {WATCH_DIRECTORY}\")\n",
        "    try:\n",
        "        while True:\n",
        "            time.sleep(1)\n",
        "    except KeyboardInterrupt:\n",
        "        observer.stop()\n",
        "    observer.join()"
      ],
      "metadata": {
        "id": "LYDgN9TXI494"
      },
      "execution_count": 7,
      "outputs": []
    },
    {
      "cell_type": "code",
      "source": [
        "# ---------- FASTAPI SETUP ----------\n",
        "\n",
        "from contextlib import asynccontextmanager\n",
        "\n",
        "@app.get(\"/\")\n",
        "def read_root():\n",
        "    return {\"message\": \"File listener is running!\"}\n",
        "\n",
        "@asynccontextmanager\n",
        "async def lifespan(app: FastAPI):\n",
        "    # This block runs on startup\n",
        "    scheduler = BackgroundScheduler()\n",
        "    scheduler.add_job(start_watchdog)\n",
        "    scheduler.start()\n",
        "    print(\"Scheduler started!\")\n",
        "\n",
        "    yield\n",
        "\n",
        "    # This block runs on shutdown\n",
        "    scheduler.shutdown()\n",
        "    print(\"Scheduler shutdown!\")\n",
        "\n",
        "# Attach lifespan to app\n",
        "app = FastAPI(lifespan=lifespan)\n"
      ],
      "metadata": {
        "id": "vbAkPDwtI9fK"
      },
      "execution_count": 9,
      "outputs": []
    },
    {
      "cell_type": "code",
      "source": [
        "#to run this: save it in main.py\n",
        "# then rum this in terminal.\n",
        "#uvicorn main:app --reload\n"
      ],
      "metadata": {
        "id": "xJfjxiqJJDz2"
      },
      "execution_count": null,
      "outputs": []
    }
  ]
}